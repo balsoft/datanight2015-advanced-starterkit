{
 "cells": [
  {
   "cell_type": "markdown",
   "metadata": {},
   "source": [
    "#Бенчмарк. Определение остановок автобусов.\n",
    "\n",
    "Ночь Анализа Данных Яндекса, 2015"
   ]
  },
  {
   "cell_type": "markdown",
   "metadata": {},
   "source": [
    "Подключим необходимые библиотеки:"
   ]
  },
  {
   "cell_type": "code",
   "execution_count": 2,
   "metadata": {
    "collapsed": false
   },
   "outputs": [
    {
     "name": "stdout",
     "output_type": "stream",
     "text": [
      "Populating the interactive namespace from numpy and matplotlib\n"
     ]
    }
   ],
   "source": [
    "%pylab inline\n",
    "\n",
    "import numpy as np\n",
    "import pandas as pd\n",
    "\n",
    "from sklearn.neighbors import NearestNeighbors\n",
    "from sklearn.ensemble import RandomForestClassifier"
   ]
  },
  {
   "cell_type": "markdown",
   "metadata": {},
   "source": [
    "Считаем файлы с обучающей и тестовой выборкой, а также файл с остановками."
   ]
  },
  {
   "cell_type": "code",
   "execution_count": 3,
   "metadata": {
    "collapsed": false
   },
   "outputs": [],
   "source": [
    "dtrain = pd.read_csv('gps_train.tsv', sep = '\\t', names = ['datetime', 'id', 'type', 'hash', 'latitude', 'longitude'])\n",
    "dtest = pd.read_csv('gps_test.tsv', sep = '\\t', names = ['datetime', 'id', 'type', 'hash', 'latitude', 'longitude'])\n",
    "\n",
    "dstops = pd.read_csv('stops_train.tsv', sep = '\\t', names = ['latitude', 'longitude'])"
   ]
  },
  {
   "cell_type": "markdown",
   "metadata": {},
   "source": [
    "Создадим массивы с координатами точек."
   ]
  },
  {
   "cell_type": "code",
   "execution_count": 4,
   "metadata": {
    "collapsed": true
   },
   "outputs": [],
   "source": [
    "coordtrain = np.array(dtrain.ix[:, 4:])\n",
    "coordtest = np.array(dtest.ix[:, 4:])\n",
    "\n",
    "coordstops = np.array(dstops.ix[:, :])"
   ]
  },
  {
   "cell_type": "markdown",
   "metadata": {},
   "source": [
    "Создадим обучающую выборку.\n",
    "Для этого пометим как остановкии те точки маршрутов, которые наиболее близки к реальным остановкам."
   ]
  },
  {
   "cell_type": "code",
   "execution_count": 5,
   "metadata": {
    "collapsed": false
   },
   "outputs": [],
   "source": [
    "nbrs = NearestNeighbors(n_neighbors = 1, algorithm = 'ball_tree').fit(coordtrain)\n",
    "selected = nbrs.kneighbors(coordstops)[1][:, 0]\n",
    "\n",
    "ytrain = np.zeros(len(dtrain))\n",
    "ytrain[selected] = 1"
   ]
  },
  {
   "cell_type": "markdown",
   "metadata": {},
   "source": [
    "В качестве признаков возьмем расстояния до 5 ближайших точек из обучающей и тестовой выборки соответственно."
   ]
  },
  {
   "cell_type": "code",
   "execution_count": 6,
   "metadata": {
    "collapsed": true
   },
   "outputs": [],
   "source": [
    "nbrs = NearestNeighbors(n_neighbors = 5, algorithm = 'ball_tree').fit(coordtrain)\n",
    "Xtrain = nbrs.kneighbors(coordtrain)[0]\n",
    "\n",
    "nbrs = NearestNeighbors(n_neighbors = 5, algorithm = 'ball_tree').fit(coordtest)\n",
    "Xtest = nbrs.kneighbors(coordtest)[0]"
   ]
  },
  {
   "cell_type": "markdown",
   "metadata": {},
   "source": [
    "Обучим модель случайного леса на наших данных."
   ]
  },
  {
   "cell_type": "code",
   "execution_count": 7,
   "metadata": {
    "collapsed": false
   },
   "outputs": [],
   "source": [
    "model = RandomForestClassifier(n_estimators = 10, random_state = 0, n_jobs = -1)\n",
    "model.fit(Xtrain, ytrain)\n",
    "\n",
    "result = model.predict_proba(Xtest)[:, 1]"
   ]
  },
  {
   "cell_type": "markdown",
   "metadata": {},
   "source": [
    "В качестве результата возьмем 3000 наиболее вероятных точек.\n",
    "Выведем результат в файл."
   ]
  },
  {
   "cell_type": "code",
   "execution_count": 8,
   "metadata": {
    "collapsed": false
   },
   "outputs": [],
   "source": [
    "np.savetxt('output.txt', coordtest[argsort(result)[-3000:]], header = '3000', comments = '')"
   ]
  },
  {
   "cell_type": "code",
   "execution_count": 6,
   "metadata": {
    "collapsed": false
   },
   "outputs": [
    {
     "name": "stdout",
     "output_type": "stream",
     "text": [
      "3000\r\n",
      "6.266293000000000291e+01 5.866182199999999369e+01\r\n",
      "6.303820400000000035e+01 5.836750200000000177e+01\r\n",
      "6.306890100000000388e+01 5.835960099999999784e+01\r\n",
      "6.292370999999999981e+01 5.855505000000000138e+01\r\n",
      "6.309207099999999713e+01 5.796597900000000436e+01\r\n",
      "6.294864300000000412e+01 5.853920799999999502e+01\r\n",
      "6.303303299999999609e+01 5.825123100000000420e+01\r\n",
      "6.275014499999999629e+01 5.863042300000000040e+01\r\n",
      "6.292258900000000210e+01 5.850721200000000266e+01\r\n"
     ]
    }
   ],
   "source": [
    "!head output.txt"
   ]
  },
  {
   "cell_type": "code",
   "execution_count": 1,
   "metadata": {
    "collapsed": false
   },
   "outputs": [],
   "source": [
    "oauth=..."
   ]
  },
  {
   "cell_type": "code",
   "execution_count": 2,
   "metadata": {
    "collapsed": true
   },
   "outputs": [],
   "source": [
    "from contest_yandex import YaContestSubmitter\n",
    "contest = YaContestSubmitter(oauth_token=oauth, contest_id=1304)"
   ]
  },
  {
   "cell_type": "code",
   "execution_count": 3,
   "metadata": {
    "collapsed": false
   },
   "outputs": [
    {
     "name": "stdout",
     "output_type": "stream",
     "text": [
      "769435\n"
     ]
    }
   ],
   "source": [
    "r = contest.submit('output.txt')\n",
    "print r"
   ]
  },
  {
   "cell_type": "code",
   "execution_count": 5,
   "metadata": {
    "collapsed": false
   },
   "outputs": [
    {
     "name": "stdout",
     "output_type": "stream",
     "text": [
      "Score: 0.0, message: points 0.0 [*] Correct stops 0 of 1143 in public set.\n",
      "\n"
     ]
    }
   ],
   "source": [
    "score, message = contest.get_result()\n",
    "print \"Score: {}, message: {}\".format(score, message)"
   ]
  },
  {
   "cell_type": "code",
   "execution_count": null,
   "metadata": {
    "collapsed": true
   },
   "outputs": [],
   "source": []
  }
 ],
 "metadata": {
  "kernelspec": {
   "display_name": "Python 2",
   "language": "python",
   "name": "python2"
  },
  "language_info": {
   "codemirror_mode": {
    "name": "ipython",
    "version": 2
   },
   "file_extension": ".py",
   "mimetype": "text/x-python",
   "name": "python",
   "nbconvert_exporter": "python",
   "pygments_lexer": "ipython2",
   "version": "2.7.6"
  }
 },
 "nbformat": 4,
 "nbformat_minor": 0
}
