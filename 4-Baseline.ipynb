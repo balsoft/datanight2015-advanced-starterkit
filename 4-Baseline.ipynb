{
 "cells": [
  {
   "cell_type": "markdown",
   "metadata": {},
   "source": [
    "#Бенчмарк. Определение остановок автобусов.\n",
    "\n",
    "Ночь Анализа Данных Яндекса, 2015"
   ]
  },
  {
   "cell_type": "markdown",
   "metadata": {},
   "source": [
    "Подключим необходимые библиотеки:"
   ]
  },
  {
   "cell_type": "code",
   "execution_count": 1,
   "metadata": {
    "collapsed": false
   },
   "outputs": [],
   "source": [
    "import numpy as np\n",
    "import pandas as pd\n",
    "\n",
    "from sklearn.neighbors import NearestNeighbors\n",
    "from sklearn.ensemble import RandomForestClassifier"
   ]
  },
  {
   "cell_type": "markdown",
   "metadata": {},
   "source": [
    "Считаем файлы с обучающей и тестовой выборкой, а также файл с остановками."
   ]
  },
  {
   "cell_type": "code",
   "execution_count": 2,
   "metadata": {
    "collapsed": false
   },
   "outputs": [],
   "source": [
    "dtrain = pd.read_csv(\n",
    "    'gps_train.tsv',\n",
    "    sep='\\t',\n",
    "    names=['datetime', 'id', 'type', 'hash', 'latitude', 'longitude'])\n",
    "\n",
    "dtest = pd.read_csv(\n",
    "    'gps_test.tsv',\n",
    "    sep='\\t',\n",
    "    names=['datetime', 'id', 'type', 'hash', 'latitude', 'longitude'])\n",
    "\n",
    "dstops = pd.read_csv(\n",
    "    'stops_train.tsv', \n",
    "    sep='\\t',\n",
    "    names=['latitude', 'longitude'])"
   ]
  },
  {
   "cell_type": "markdown",
   "metadata": {},
   "source": [
    "Создадим массивы с координатами точек."
   ]
  },
  {
   "cell_type": "code",
   "execution_count": 3,
   "metadata": {
    "collapsed": true
   },
   "outputs": [],
   "source": [
    "coordtrain = np.array(dtrain.ix[:, 4:])\n",
    "coordtest = np.array(dtest.ix[:, 4:])\n",
    "\n",
    "coordstops = np.array(dstops.ix[:, :])"
   ]
  },
  {
   "cell_type": "markdown",
   "metadata": {},
   "source": [
    "Создадим обучающую выборку.\n",
    "Для этого пометим как остановкии те точки маршрутов, которые наиболее близки к реальным остановкам."
   ]
  },
  {
   "cell_type": "code",
   "execution_count": 4,
   "metadata": {
    "collapsed": false
   },
   "outputs": [],
   "source": [
    "nbrs = NearestNeighbors(n_neighbors=1, algorithm='ball_tree').fit(coordtrain)\n",
    "selected = nbrs.kneighbors(coordstops)[1][:, 0]\n",
    "\n",
    "ytrain = np.zeros(len(dtrain))\n",
    "ytrain[selected] = 1"
   ]
  },
  {
   "cell_type": "markdown",
   "metadata": {},
   "source": [
    "В качестве признаков возьмем расстояния до 5 ближайших точек из обучающей и тестовой выборки соответственно."
   ]
  },
  {
   "cell_type": "code",
   "execution_count": 5,
   "metadata": {
    "collapsed": true
   },
   "outputs": [],
   "source": [
    "nbrs = NearestNeighbors(n_neighbors=5, algorithm='ball_tree').fit(coordtrain)\n",
    "Xtrain = nbrs.kneighbors(coordtrain)[0]\n",
    "\n",
    "nbrs = NearestNeighbors(n_neighbors=5, algorithm='ball_tree').fit(coordtest)\n",
    "Xtest = nbrs.kneighbors(coordtest)[0]"
   ]
  },
  {
   "cell_type": "markdown",
   "metadata": {},
   "source": [
    "Обучим модель случайного леса на наших данных."
   ]
  },
  {
   "cell_type": "code",
   "execution_count": 6,
   "metadata": {
    "collapsed": false
   },
   "outputs": [],
   "source": [
    "model = RandomForestClassifier(n_estimators=10, random_state=0, n_jobs=-1)\n",
    "model.fit(Xtrain, ytrain)\n",
    "\n",
    "result = model.predict_proba(Xtest)[:, 1]"
   ]
  },
  {
   "cell_type": "markdown",
   "metadata": {},
   "source": [
    "В качестве результата возьмем 3000 наиболее вероятных точек.\n",
    "Выведем результат в файл."
   ]
  },
  {
   "cell_type": "code",
   "execution_count": 8,
   "metadata": {
    "collapsed": false
   },
   "outputs": [],
   "source": [
    "np.savetxt('output.txt', coordtest[np.argsort(result)[-3000:]], header='3000', comments='')"
   ]
  },
  {
   "cell_type": "code",
   "execution_count": 9,
   "metadata": {
    "collapsed": false
   },
   "outputs": [
    {
     "name": "stdout",
     "output_type": "stream",
     "text": [
      "3000\r\n",
      "5.567736500000000177e+01 3.722490100000000268e+01\r\n",
      "5.560834899999999692e+01 3.761362700000000103e+01\r\n",
      "5.557557299999999856e+01 3.774151499999999970e+01\r\n",
      "5.561267800000000250e+01 3.765497199999999367e+01\r\n",
      "5.549281700000000228e+01 3.758671799999999763e+01\r\n",
      "5.550112900000000593e+01 3.748827199999999493e+01\r\n",
      "5.550378100000000359e+01 3.748466400000000220e+01\r\n",
      "5.554626999999999271e+01 3.761847199999999702e+01\r\n",
      "5.549106400000000150e+01 3.753749600000000441e+01\r\n"
     ]
    }
   ],
   "source": [
    "!head output.txt"
   ]
  },
  {
   "cell_type": "code",
   "execution_count": 10,
   "metadata": {
    "collapsed": false
   },
   "outputs": [],
   "source": [
    "oauth='21a1929c450641769be5c5bc49a55d54'"
   ]
  },
  {
   "cell_type": "code",
   "execution_count": 11,
   "metadata": {
    "collapsed": true
   },
   "outputs": [],
   "source": [
    "from contest_yandex import YaContestSubmitter\n",
    "contest = YaContestSubmitter(oauth_token=oauth, contest_id=1304)"
   ]
  },
  {
   "cell_type": "code",
   "execution_count": 12,
   "metadata": {
    "collapsed": false
   },
   "outputs": [
    {
     "name": "stdout",
     "output_type": "stream",
     "text": [
      "770171\n"
     ]
    }
   ],
   "source": [
    "r = contest.submit('output.txt')\n",
    "print r"
   ]
  },
  {
   "cell_type": "code",
   "execution_count": 13,
   "metadata": {
    "collapsed": false
   },
   "outputs": [
    {
     "name": "stdout",
     "output_type": "stream",
     "text": [
      "Score: 97740.2536205, message: points 97740.25362053150 [*] Correct stops 3 of 1143 in public set.\n",
      "\n"
     ]
    }
   ],
   "source": [
    "score, message = contest.get_score()\n",
    "print \"Score: {}, message: {}\".format(score, message)"
   ]
  },
  {
   "cell_type": "code",
   "execution_count": null,
   "metadata": {
    "collapsed": true
   },
   "outputs": [],
   "source": []
  }
 ],
 "metadata": {
  "kernelspec": {
   "display_name": "Python 2",
   "language": "python",
   "name": "python2"
  },
  "language_info": {
   "codemirror_mode": {
    "name": "ipython",
    "version": 2
   },
   "file_extension": ".py",
   "mimetype": "text/x-python",
   "name": "python",
   "nbconvert_exporter": "python",
   "pygments_lexer": "ipython2",
   "version": "2.7.6"
  }
 },
 "nbformat": 4,
 "nbformat_minor": 0
}
