{
 "cells": [
  {
   "cell_type": "code",
   "execution_count": 1,
   "metadata": {
    "collapsed": false
   },
   "outputs": [
    {
     "name": "stdout",
     "output_type": "stream",
     "text": [
      "1-Get_oauth_token.ipynb  4-Visualize_data2.ipynb  gps_test.tsv\r\n",
      "2-Get_data.ipynb\t 5-Baseline.ipynb\r\n",
      "3-Visualize_data.ipynb\t contest_yandex.py\r\n"
     ]
    }
   ],
   "source": [
    "!ls"
   ]
  },
  {
   "cell_type": "code",
   "execution_count": 2,
   "metadata": {
    "collapsed": false
   },
   "outputs": [
    {
     "name": "stdout",
     "output_type": "stream",
     "text": [
      "--2015-09-11 10:59:52--  https://downloader.disk.yandex.ru/disk/b23e8d0bf85c49a0f10214404abb8380537cc1d0b96daa2778dacbbf8608540c/55f2eb9b/9E-i5T58qD8LMe1W8ACW5ZR5ep9yRMd1Hol2hFCCQE3964QcVw7zaohp-PFrxEVVsBl61o4LeMoio57D6t7xcg%3D%3D?uid=0&filename=gps_test.tsv&disposition=attachment&hash=rENMzse%2BT5qk3lvynT6XqaLs3QSHOJpMVgL2r8GLNPM%3D%3A/gps_test.tsv&limit=0&content_type=text%2Ftab-separated-values&fsize=47198291&hid=e4eeea12eac0031376b420fb5270f9e3&media_type=data&tknv=v2\n",
      "Resolving downloader.disk.yandex.ru (downloader.disk.yandex.ru)... 77.88.21.127, 2a02:6b8::2:127\n",
      "Connecting to downloader.disk.yandex.ru (downloader.disk.yandex.ru)|77.88.21.127|:443... connected.\n",
      "HTTP request sent, awaiting response... 302 Moved Temporarily\n",
      "Location: https://leto21e.storage.yandex.net/rdisk/b23e8d0bf85c49a0f10214404abb8380537cc1d0b96daa2778dacbbf8608540c/55f2eb9b/9E-i5T58qD8LMe1W8ACW5ZR5ep9yRMd1Hol2hFCCQE3964QcVw7zaohp-PFrxEVVsBl61o4LeMoio57D6t7xcg==?uid=0&filename=gps_test.tsv&disposition=attachment&hash=rENMzse%2BT5qk3lvynT6XqaLs3QSHOJpMVgL2r8GLNPM%3D%3A/gps_test.tsv&limit=0&content_type=text%2Ftab-separated-values&fsize=47198291&hid=e4eeea12eac0031376b420fb5270f9e3&media_type=data&tknv=v2&rtoken=876553fcd08c3e4d9acc94b407c85688&force_default=no&ycrid=na-1a82854dfc5787a763bccdddd524e572-downloader4g [following]\n",
      "--2015-09-11 10:59:52--  https://leto21e.storage.yandex.net/rdisk/b23e8d0bf85c49a0f10214404abb8380537cc1d0b96daa2778dacbbf8608540c/55f2eb9b/9E-i5T58qD8LMe1W8ACW5ZR5ep9yRMd1Hol2hFCCQE3964QcVw7zaohp-PFrxEVVsBl61o4LeMoio57D6t7xcg==?uid=0&filename=gps_test.tsv&disposition=attachment&hash=rENMzse%2BT5qk3lvynT6XqaLs3QSHOJpMVgL2r8GLNPM%3D%3A/gps_test.tsv&limit=0&content_type=text%2Ftab-separated-values&fsize=47198291&hid=e4eeea12eac0031376b420fb5270f9e3&media_type=data&tknv=v2&rtoken=876553fcd08c3e4d9acc94b407c85688&force_default=no&ycrid=na-1a82854dfc5787a763bccdddd524e572-downloader4g\n",
      "Resolving leto21e.storage.yandex.net (leto21e.storage.yandex.net)... 95.108.130.227, 2a02:6b8:0:801:2:7ed0:21:eee\n",
      "Connecting to leto21e.storage.yandex.net (leto21e.storage.yandex.net)|95.108.130.227|:443... connected.\n",
      "HTTP request sent, awaiting response... 200 OK\n",
      "Length: 47198291 (45M) [text/tab-separated-values]\n",
      "Saving to: 'gps_test.tsv'\n",
      "\n",
      "100%[======================================>] 47,198,291  10.4MB/s   in 3.7s   \n",
      "\n",
      "2015-09-11 10:59:56 (12.1 MB/s) - 'gps_test.tsv' saved [47198291/47198291]\n",
      "\n"
     ]
    }
   ],
   "source": [
    "!wget -O gps_test.tsv \"https://downloader.disk.yandex.ru/disk/b23e8d0bf85c49a0f10214404abb8380537cc1d0b96daa2778dacbbf8608540c/55f2eb9b/9E-i5T58qD8LMe1W8ACW5ZR5ep9yRMd1Hol2hFCCQE3964QcVw7zaohp-PFrxEVVsBl61o4LeMoio57D6t7xcg%3D%3D?uid=0&filename=gps_test.tsv&disposition=attachment&hash=rENMzse%2BT5qk3lvynT6XqaLs3QSHOJpMVgL2r8GLNPM%3D%3A/gps_test.tsv&limit=0&content_type=text%2Ftab-separated-values&fsize=47198291&hid=e4eeea12eac0031376b420fb5270f9e3&media_type=data&tknv=v2\""
   ]
  },
  {
   "cell_type": "code",
   "execution_count": 3,
   "metadata": {
    "collapsed": false
   },
   "outputs": [
    {
     "name": "stdout",
     "output_type": "stream",
     "text": [
      "--2015-09-11 11:00:12--  https://downloader.disk.yandex.ru/disk/5c5c7d80e0ea73b8940510acaa2667c6a5252d8fd54269ff5702e5a3db3ff7c9/55f2eb9d/1PWykWRmSKOXakDbgcn7IkE27-7-y9OuwuUYuwdV9rdZrHQeKc8uCD_ywAIaMF1-CqTdt3zQqi4knkL57jNeoA%3D%3D?uid=0&filename=gps_train.tsv&disposition=attachment&hash=rENMzse%2BT5qk3lvynT6XqaLs3QSHOJpMVgL2r8GLNPM%3D%3A/gps_train.tsv&limit=0&content_type=text%2Ftab-separated-values&fsize=36068172&hid=37bc0450e122437fca7bfdded2770089&media_type=data&tknv=v2\n",
      "Resolving downloader.disk.yandex.ru (downloader.disk.yandex.ru)... 77.88.21.127, 2a02:6b8::2:127\n",
      "Connecting to downloader.disk.yandex.ru (downloader.disk.yandex.ru)|77.88.21.127|:443... connected.\n",
      "HTTP request sent, awaiting response... 302 Moved Temporarily\n",
      "Location: https://leto42h.storage.yandex.net/rdisk/5c5c7d80e0ea73b8940510acaa2667c6a5252d8fd54269ff5702e5a3db3ff7c9/55f2eb9d/1PWykWRmSKOXakDbgcn7IkE27-7-y9OuwuUYuwdV9rdZrHQeKc8uCD_ywAIaMF1-CqTdt3zQqi4knkL57jNeoA==?uid=0&filename=gps_train.tsv&disposition=attachment&hash=rENMzse%2BT5qk3lvynT6XqaLs3QSHOJpMVgL2r8GLNPM%3D%3A/gps_train.tsv&limit=0&content_type=text%2Ftab-separated-values&fsize=36068172&hid=37bc0450e122437fca7bfdded2770089&media_type=data&tknv=v2&rtoken=876553fcd08c3e4d9acc94b407c85688&force_default=no&ycrid=na-092f47b9ab369a98778d431b0e9d8b8a-downloader4g [following]\n",
      "--2015-09-11 11:00:12--  https://leto42h.storage.yandex.net/rdisk/5c5c7d80e0ea73b8940510acaa2667c6a5252d8fd54269ff5702e5a3db3ff7c9/55f2eb9d/1PWykWRmSKOXakDbgcn7IkE27-7-y9OuwuUYuwdV9rdZrHQeKc8uCD_ywAIaMF1-CqTdt3zQqi4knkL57jNeoA==?uid=0&filename=gps_train.tsv&disposition=attachment&hash=rENMzse%2BT5qk3lvynT6XqaLs3QSHOJpMVgL2r8GLNPM%3D%3A/gps_train.tsv&limit=0&content_type=text%2Ftab-separated-values&fsize=36068172&hid=37bc0450e122437fca7bfdded2770089&media_type=data&tknv=v2&rtoken=876553fcd08c3e4d9acc94b407c85688&force_default=no&ycrid=na-092f47b9ab369a98778d431b0e9d8b8a-downloader4g\n",
      "Resolving leto42h.storage.yandex.net (leto42h.storage.yandex.net)... 95.108.205.42, 2a02:6b8:0:1a2d:212:7ed0:42:cac\n",
      "Connecting to leto42h.storage.yandex.net (leto42h.storage.yandex.net)|95.108.205.42|:443... connected.\n",
      "HTTP request sent, awaiting response... 200 OK\n",
      "Length: 36068172 (34M) [text/tab-separated-values]\n",
      "Saving to: 'gps_train.tsv'\n",
      "\n",
      "100%[======================================>] 36,068,172  13.9MB/s   in 2.5s   \n",
      "\n",
      "2015-09-11 11:00:15 (13.9 MB/s) - 'gps_train.tsv' saved [36068172/36068172]\n",
      "\n"
     ]
    }
   ],
   "source": [
    "!wget -O gps_train.tsv \"https://downloader.disk.yandex.ru/disk/5c5c7d80e0ea73b8940510acaa2667c6a5252d8fd54269ff5702e5a3db3ff7c9/55f2eb9d/1PWykWRmSKOXakDbgcn7IkE27-7-y9OuwuUYuwdV9rdZrHQeKc8uCD_ywAIaMF1-CqTdt3zQqi4knkL57jNeoA%3D%3D?uid=0&filename=gps_train.tsv&disposition=attachment&hash=rENMzse%2BT5qk3lvynT6XqaLs3QSHOJpMVgL2r8GLNPM%3D%3A/gps_train.tsv&limit=0&content_type=text%2Ftab-separated-values&fsize=36068172&hid=37bc0450e122437fca7bfdded2770089&media_type=data&tknv=v2\""
   ]
  },
  {
   "cell_type": "code",
   "execution_count": 6,
   "metadata": {
    "collapsed": false
   },
   "outputs": [
    {
     "name": "stdout",
     "output_type": "stream",
     "text": [
      "--2015-09-11 11:02:10--  https://downloader.disk.yandex.ru/disk/dc88aa7bd44e4e183b9643b9c5bc081ed4ae0a6ecd523e57ef135ec8624b28bb/55f2eb9e/_NzCMI66CVgG1DdxGo39KalS2mS58MgngdYYuClRoBPDCIC2BZtNbfsPRQX_fhKsDQbCrXN5IdsjWyQlmZKvcA%3D%3D?uid=0&filename=stops_train.tsv&disposition=attachment&hash=rENMzse%2BT5qk3lvynT6XqaLs3QSHOJpMVgL2r8GLNPM%3D%3A/stops_train.tsv&limit=0&content_type=text%2Ftab-separated-values&fsize=48050&hid=93f70ff5bca6d17ad0293ed8dce2d9f2&media_type=data&tknv=v2\r\n",
      "Resolving downloader.disk.yandex.ru (downloader.disk.yandex.ru)... 77.88.21.127, 2a02:6b8::2:127\r\n",
      "Connecting to downloader.disk.yandex.ru (downloader.disk.yandex.ru)|77.88.21.127|:443... connected.\r\n",
      "HTTP request sent, awaiting response... 200 OK\r\n",
      "Length: 48050 (47K) [text/tab-separated-values]\r\n",
      "Saving to: 'stops_train.tsv'\r\n",
      "\r\n",
      "\r",
      " 0% [                                       ] 0           --.-K/s              \r",
      "100%[======================================>] 48,050      --.-K/s   in 0.001s  \r\n",
      "\r\n",
      "2015-09-11 11:02:10 (34.0 MB/s) - 'stops_train.tsv' saved [48050/48050]\r\n",
      "\r\n"
     ]
    }
   ],
   "source": [
    "!wget -O stops_train.tsv \"https://downloader.disk.yandex.ru/disk/dc88aa7bd44e4e183b9643b9c5bc081ed4ae0a6ecd523e57ef135ec8624b28bb/55f2eb9e/_NzCMI66CVgG1DdxGo39KalS2mS58MgngdYYuClRoBPDCIC2BZtNbfsPRQX_fhKsDQbCrXN5IdsjWyQlmZKvcA%3D%3D?uid=0&filename=stops_train.tsv&disposition=attachment&hash=rENMzse%2BT5qk3lvynT6XqaLs3QSHOJpMVgL2r8GLNPM%3D%3A/stops_train.tsv&limit=0&content_type=text%2Ftab-separated-values&fsize=48050&hid=93f70ff5bca6d17ad0293ed8dce2d9f2&media_type=data&tknv=v2\""
   ]
  },
  {
   "cell_type": "code",
   "execution_count": 5,
   "metadata": {
    "collapsed": false
   },
   "outputs": [
    {
     "name": "stdout",
     "output_type": "stream",
     "text": [
      "gps_test.tsv  gps_train.tsv  stop_train.tsv\r\n"
     ]
    }
   ],
   "source": [
    "!ls *.tsv"
   ]
  },
  {
   "cell_type": "code",
   "execution_count": null,
   "metadata": {
    "collapsed": true
   },
   "outputs": [],
   "source": []
  }
 ],
 "metadata": {
  "kernelspec": {
   "display_name": "Python 2",
   "language": "python",
   "name": "python2"
  },
  "language_info": {
   "codemirror_mode": {
    "name": "ipython",
    "version": 2
   },
   "file_extension": ".py",
   "mimetype": "text/x-python",
   "name": "python",
   "nbconvert_exporter": "python",
   "pygments_lexer": "ipython2",
   "version": "2.7.6"
  }
 },
 "nbformat": 4,
 "nbformat_minor": 0
}
