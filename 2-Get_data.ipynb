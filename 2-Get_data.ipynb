{
 "cells": [
  {
   "cell_type": "code",
   "execution_count": 1,
   "metadata": {
    "collapsed": false
   },
   "outputs": [
    {
     "name": "stdout",
     "output_type": "stream",
     "text": [
      "1-Get_oauth_token.ipynb  4-Visualize_data2.ipynb  gps_test.tsv\r\n",
      "2-Get_data.ipynb\t 5-Baseline.ipynb\r\n",
      "3-Visualize_data.ipynb\t contest_yandex.py\r\n"
     ]
    }
   ],
   "source": [
    "!ls"
   ]
  },
  {
   "cell_type": "code",
   "execution_count": null,
   "metadata": {
    "collapsed": false
   },
   "outputs": [
    {
     "name": "stdout",
     "output_type": "stream",
     "text": [
      "--2015-09-12 16:30:05--  https://www.dropbox.com/s/cfe3woh906hex6b/gps_test.tsv?dl=0\n",
      "Resolving www.dropbox.com (www.dropbox.com)... 108.160.172.238, 108.160.172.206\n",
      "Connecting to www.dropbox.com (www.dropbox.com)|108.160.172.238|:443... connected.\n",
      "HTTP request sent, awaiting response... 302 FOUND\n",
      "Location: https://dl.dropboxusercontent.com/content_link/Rthxj3wq1Fn55Xn3bn11N2zo7Gfib2rQgwmDzoJz8oCxjx4mqU4bBkS933HcQhr5 [following]\n",
      "--2015-09-12 16:30:06--  https://dl.dropboxusercontent.com/content_link/Rthxj3wq1Fn55Xn3bn11N2zo7Gfib2rQgwmDzoJz8oCxjx4mqU4bBkS933HcQhr5\n",
      "Resolving dl.dropboxusercontent.com (dl.dropboxusercontent.com)... 54.225.121.13, 54.225.149.216, 54.225.166.10, ...\n",
      "Connecting to dl.dropboxusercontent.com (dl.dropboxusercontent.com)|54.225.121.13|:443... connected.\n",
      "HTTP request sent, awaiting response... 200 OK\n",
      "Length: 43557200 (42M) [text/tab-separated-values]\n",
      "Saving to: 'gps_test.tsv'\n",
      "\n",
      " 6% [=>                                     ] 2,973,074    808KB/s  eta 44s    "
     ]
    }
   ],
   "source": [
    "!wget -O gps_test.tsv \"https://www.dropbox.com/s/cfe3woh906hex6b/gps_test.tsv?dl=0\""
   ]
  },
  {
   "cell_type": "code",
   "execution_count": null,
   "metadata": {
    "collapsed": false
   },
   "outputs": [
    {
     "name": "stdout",
     "output_type": "stream",
     "text": [
      "--2015-09-12 16:28:39--  https://www.dropbox.com/s/kr7z73z63ypzy95/gps_train.tsv?dl=0\n",
      "Resolving www.dropbox.com (www.dropbox.com)... 108.160.172.206, 108.160.172.238\n",
      "Connecting to www.dropbox.com (www.dropbox.com)|108.160.172.206|:443... connected.\n",
      "HTTP request sent, awaiting response... 302 FOUND\n",
      "Location: https://dl.dropboxusercontent.com/content_link/JyWK1Q8Pvl3p8GFRzKpgWOSRcFtmqZlb5w5Nb8olbMoyVtyuacdsoJYJo0CnIW8J [following]\n",
      "--2015-09-12 16:28:40--  https://dl.dropboxusercontent.com/content_link/JyWK1Q8Pvl3p8GFRzKpgWOSRcFtmqZlb5w5Nb8olbMoyVtyuacdsoJYJo0CnIW8J\n",
      "Resolving dl.dropboxusercontent.com (dl.dropboxusercontent.com)... 54.243.98.144, 75.101.147.2, 107.20.144.20, ...\n",
      "Connecting to dl.dropboxusercontent.com (dl.dropboxusercontent.com)|54.243.98.144|:443... connected.\n",
      "HTTP request sent, awaiting response... 200 OK\n",
      "Length: 39709263 (38M) [text/tab-separated-values]\n",
      "Saving to: 'gps_train.tsv'\n",
      "\n",
      "100%[======================================>] 39,709,263  1.14MB/s   in 83s    \n",
      "\n",
      "2015-09-12 16:30:04 (467 KB/s) - 'gps_train.tsv' saved [39709263/39709263]\n",
      "\n"
     ]
    }
   ],
   "source": [
    "!wget -O gps_train.tsv \"https://www.dropbox.com/s/kr7z73z63ypzy95/gps_train.tsv?dl=0\""
   ]
  },
  {
   "cell_type": "code",
   "execution_count": 6,
   "metadata": {
    "collapsed": false
   },
   "outputs": [
    {
     "name": "stdout",
     "output_type": "stream",
     "text": [
      "--2015-09-12 16:28:06--  https://www.dropbox.com/s/m8wsh21secmmu4k/stops_train.tsv?dl=0\n",
      "Resolving www.dropbox.com (www.dropbox.com)... 108.160.172.206, 108.160.172.238\n",
      "Connecting to www.dropbox.com (www.dropbox.com)|108.160.172.206|:443... connected.\n",
      "HTTP request sent, awaiting response... 302 FOUND\n",
      "Location: https://dl.dropboxusercontent.com/content_link/J5PF7mV75eGuqmSc7taj0gfulsT1MbUM903xwYviImbF2dlPoMZjKxOJi9N7LrtG [following]\n",
      "--2015-09-12 16:28:07--  https://dl.dropboxusercontent.com/content_link/J5PF7mV75eGuqmSc7taj0gfulsT1MbUM903xwYviImbF2dlPoMZjKxOJi9N7LrtG\n",
      "Resolving dl.dropboxusercontent.com (dl.dropboxusercontent.com)... 75.101.147.2, 107.20.144.20, 107.21.92.209, ...\n",
      "Connecting to dl.dropboxusercontent.com (dl.dropboxusercontent.com)|75.101.147.2|:443... connected.\n",
      "HTTP request sent, awaiting response... 200 OK\n",
      "Length: 70869 (69K) [text/tab-separated-values]\n",
      "Saving to: 'stops_train.tsv'\n",
      "\n",
      "100%[======================================>] 70,869       255KB/s   in 0.3s   \n",
      "\n",
      "2015-09-12 16:28:08 (255 KB/s) - 'stops_train.tsv' saved [70869/70869]\n",
      "\n"
     ]
    }
   ],
   "source": [
    "!wget -O stops_train.tsv \"https://www.dropbox.com/s/m8wsh21secmmu4k/stops_train.tsv?dl=0\""
   ]
  },
  {
   "cell_type": "code",
   "execution_count": 5,
   "metadata": {
    "collapsed": false
   },
   "outputs": [
    {
     "name": "stdout",
     "output_type": "stream",
     "text": [
      "gps_test.tsv  gps_train.tsv  stops_train.tsv\r\n"
     ]
    }
   ],
   "source": [
    "!ls *.tsv"
   ]
  },
  {
   "cell_type": "code",
   "execution_count": null,
   "metadata": {
    "collapsed": true
   },
   "outputs": [],
   "source": []
  }
 ],
 "metadata": {
  "kernelspec": {
   "display_name": "Python 2",
   "language": "python",
   "name": "python2"
  },
  "language_info": {
   "codemirror_mode": {
    "name": "ipython",
    "version": 2
   },
   "file_extension": ".py",
   "mimetype": "text/x-python",
   "name": "python",
   "nbconvert_exporter": "python",
   "pygments_lexer": "ipython2",
   "version": "2.7.6"
  }
 },
 "nbformat": 4,
 "nbformat_minor": 0
}
