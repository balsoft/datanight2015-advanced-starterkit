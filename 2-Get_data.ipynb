{
 "cells": [
  {
   "cell_type": "code",
   "execution_count": 1,
   "metadata": {
    "collapsed": false
   },
   "outputs": [
    {
     "name": "stdout",
     "output_type": "stream",
     "text": [
      "1-Get_oauth_token.ipynb  4-Visualize_data2.ipynb  gps_test.tsv\r\n",
      "2-Get_data.ipynb\t 5-Baseline.ipynb\r\n",
      "3-Visualize_data.ipynb\t contest_yandex.py\r\n"
     ]
    }
   ],
   "source": [
    "!ls"
   ]
  },
  {
   "cell_type": "code",
   "execution_count": 1,
   "metadata": {
    "collapsed": false
   },
   "outputs": [
    {
     "name": "stdout",
     "output_type": "stream",
     "text": [
      "--2015-09-11 16:59:03--  https://downloader.disk.yandex.ru/disk/5be0f2c779f987724343cbd15bfca08eb1abc9264e909749c89379ef152c92e7/55f33f2d/dSuInkoLB2Q6SI_GWgeE7gOC8m6YfP69CeqnTx-vpBgdwTKw-IbkXm36kOcDeu4-2fO__1-nkC5-9ux0u8avXQ%3D%3D?uid=0&filename=gps_test.tsv&disposition=attachment&hash=rENMzse%2BT5qk3lvynT6XqaLs3QSHOJpMVgL2r8GLNPM%3D%3A/gps_test.tsv&limit=0&content_type=text%2Ftab-separated-values&fsize=43557200&hid=50e2c5afe235852553d0643eedd2756e&media_type=data&tknv=v2\n",
      "Resolving downloader.disk.yandex.ru (downloader.disk.yandex.ru)... 77.88.21.127, 2a02:6b8::2:127\n",
      "Connecting to downloader.disk.yandex.ru (downloader.disk.yandex.ru)|77.88.21.127|:443... connected.\n",
      "HTTP request sent, awaiting response... 302 Moved Temporarily\n",
      "Location: https://leto39f.storage.yandex.net/rdisk/5be0f2c779f987724343cbd15bfca08eb1abc9264e909749c89379ef152c92e7/55f33f2d/dSuInkoLB2Q6SI_GWgeE7gOC8m6YfP69CeqnTx-vpBgdwTKw-IbkXm36kOcDeu4-2fO__1-nkC5-9ux0u8avXQ==?uid=0&filename=gps_test.tsv&disposition=attachment&hash=rENMzse%2BT5qk3lvynT6XqaLs3QSHOJpMVgL2r8GLNPM%3D%3A/gps_test.tsv&limit=0&content_type=text%2Ftab-separated-values&fsize=43557200&hid=50e2c5afe235852553d0643eedd2756e&media_type=data&tknv=v2&rtoken=876553fcd08c3e4d9acc94b407c85688&force_default=no&ycrid=na-e13489467aa10c3d0c7772d4f50106da-downloader3g [following]\n",
      "--2015-09-11 16:59:03--  https://leto39f.storage.yandex.net/rdisk/5be0f2c779f987724343cbd15bfca08eb1abc9264e909749c89379ef152c92e7/55f33f2d/dSuInkoLB2Q6SI_GWgeE7gOC8m6YfP69CeqnTx-vpBgdwTKw-IbkXm36kOcDeu4-2fO__1-nkC5-9ux0u8avXQ==?uid=0&filename=gps_test.tsv&disposition=attachment&hash=rENMzse%2BT5qk3lvynT6XqaLs3QSHOJpMVgL2r8GLNPM%3D%3A/gps_test.tsv&limit=0&content_type=text%2Ftab-separated-values&fsize=43557200&hid=50e2c5afe235852553d0643eedd2756e&media_type=data&tknv=v2&rtoken=876553fcd08c3e4d9acc94b407c85688&force_default=no&ycrid=na-e13489467aa10c3d0c7772d4f50106da-downloader3g\n",
      "Resolving leto39f.storage.yandex.net (leto39f.storage.yandex.net)... 77.88.29.139, 2a02:6b8:0:1472:6:7ed0:39:fff\n",
      "Connecting to leto39f.storage.yandex.net (leto39f.storage.yandex.net)|77.88.29.139|:443... connected.\n",
      "HTTP request sent, awaiting response... 200 OK\n",
      "Length: 43557200 (42M) [text/tab-separated-values]\n",
      "Saving to: 'gps_test.tsv'\n",
      "\n",
      "100%[======================================>] 43,557,200  13.7MB/s   in 3.0s   \n",
      "\n",
      "2015-09-11 16:59:06 (13.7 MB/s) - 'gps_test.tsv' saved [43557200/43557200]\n",
      "\n"
     ]
    }
   ],
   "source": [
    "!wget -O gps_test.tsv \"https://downloader.disk.yandex.ru/disk/5be0f2c779f987724343cbd15bfca08eb1abc9264e909749c89379ef152c92e7/55f33f2d/dSuInkoLB2Q6SI_GWgeE7gOC8m6YfP69CeqnTx-vpBgdwTKw-IbkXm36kOcDeu4-2fO__1-nkC5-9ux0u8avXQ%3D%3D?uid=0&filename=gps_test.tsv&disposition=attachment&hash=rENMzse%2BT5qk3lvynT6XqaLs3QSHOJpMVgL2r8GLNPM%3D%3A/gps_test.tsv&limit=0&content_type=text%2Ftab-separated-values&fsize=43557200&hid=50e2c5afe235852553d0643eedd2756e&media_type=data&tknv=v2\""
   ]
  },
  {
   "cell_type": "code",
   "execution_count": 3,
   "metadata": {
    "collapsed": false
   },
   "outputs": [
    {
     "name": "stdout",
     "output_type": "stream",
     "text": [
      "--2015-09-11 17:00:57--  https://downloader.disk.yandex.ru/disk/facdcbf63af7ccc9b81052930eb74786ea62b07dcd422afa7c94056ae88f855e/55f33f2e/5fZhMoaba-AFb5SPjFZBBMJNV1z-p6dhX7hEoxosWqL9XeNNtyvSUSWz-57EVmh965Gnm6DE7ocpmaLJ-k3nkw%3D%3D?uid=0&filename=gps_train.tsv&disposition=attachment&hash=rENMzse%2BT5qk3lvynT6XqaLs3QSHOJpMVgL2r8GLNPM%3D%3A/gps_train.tsv&limit=0&content_type=text%2Ftab-separated-values&fsize=39709263&hid=a226274543bec51f4a4f4b55bc271bac&media_type=data&tknv=v2\n",
      "Resolving downloader.disk.yandex.ru (downloader.disk.yandex.ru)... 77.88.21.127, 2a02:6b8::2:127\n",
      "Connecting to downloader.disk.yandex.ru (downloader.disk.yandex.ru)|77.88.21.127|:443... connected.\n",
      "HTTP request sent, awaiting response... 302 Moved Temporarily\n",
      "Location: https://leto19h.storage.yandex.net/rdisk/facdcbf63af7ccc9b81052930eb74786ea62b07dcd422afa7c94056ae88f855e/55f33f2e/5fZhMoaba-AFb5SPjFZBBMJNV1z-p6dhX7hEoxosWqL9XeNNtyvSUSWz-57EVmh965Gnm6DE7ocpmaLJ-k3nkw==?uid=0&filename=gps_train.tsv&disposition=attachment&hash=rENMzse%2BT5qk3lvynT6XqaLs3QSHOJpMVgL2r8GLNPM%3D%3A/gps_train.tsv&limit=0&content_type=text%2Ftab-separated-values&fsize=39709263&hid=a226274543bec51f4a4f4b55bc271bac&media_type=data&tknv=v2&rtoken=876553fcd08c3e4d9acc94b407c85688&force_default=no&ycrid=na-b7c1a724856a1fa5c072ca4715fccefc-downloader9g [following]\n",
      "--2015-09-11 17:00:57--  https://leto19h.storage.yandex.net/rdisk/facdcbf63af7ccc9b81052930eb74786ea62b07dcd422afa7c94056ae88f855e/55f33f2e/5fZhMoaba-AFb5SPjFZBBMJNV1z-p6dhX7hEoxosWqL9XeNNtyvSUSWz-57EVmh965Gnm6DE7ocpmaLJ-k3nkw==?uid=0&filename=gps_train.tsv&disposition=attachment&hash=rENMzse%2BT5qk3lvynT6XqaLs3QSHOJpMVgL2r8GLNPM%3D%3A/gps_train.tsv&limit=0&content_type=text%2Ftab-separated-values&fsize=39709263&hid=a226274543bec51f4a4f4b55bc271bac&media_type=data&tknv=v2&rtoken=876553fcd08c3e4d9acc94b407c85688&force_default=no&ycrid=na-b7c1a724856a1fa5c072ca4715fccefc-downloader9g\n",
      "Resolving leto19h.storage.yandex.net (leto19h.storage.yandex.net)... 37.140.190.219, 2a02:6b8:0:1a2d:212:7ed0:19:cac\n",
      "Connecting to leto19h.storage.yandex.net (leto19h.storage.yandex.net)|37.140.190.219|:443... connected.\n",
      "HTTP request sent, awaiting response... 200 OK\n",
      "Length: 39709263 (38M) [text/tab-separated-values]\n",
      "Saving to: 'gps_train.tsv'\n",
      "\n",
      "100%[======================================>] 39,709,263  13.3MB/s   in 2.8s   \n",
      "\n",
      "2015-09-11 17:01:00 (13.3 MB/s) - 'gps_train.tsv' saved [39709263/39709263]\n",
      "\n"
     ]
    }
   ],
   "source": [
    "!wget -O gps_train.tsv \"https://downloader.disk.yandex.ru/disk/facdcbf63af7ccc9b81052930eb74786ea62b07dcd422afa7c94056ae88f855e/55f33f2e/5fZhMoaba-AFb5SPjFZBBMJNV1z-p6dhX7hEoxosWqL9XeNNtyvSUSWz-57EVmh965Gnm6DE7ocpmaLJ-k3nkw%3D%3D?uid=0&filename=gps_train.tsv&disposition=attachment&hash=rENMzse%2BT5qk3lvynT6XqaLs3QSHOJpMVgL2r8GLNPM%3D%3A/gps_train.tsv&limit=0&content_type=text%2Ftab-separated-values&fsize=39709263&hid=a226274543bec51f4a4f4b55bc271bac&media_type=data&tknv=v2\""
   ]
  },
  {
   "cell_type": "code",
   "execution_count": 4,
   "metadata": {
    "collapsed": false
   },
   "outputs": [
    {
     "name": "stdout",
     "output_type": "stream",
     "text": [
      "--2015-09-11 17:01:51--  https://downloader.disk.yandex.ru/disk/fae2be3033131514271570a9751b77f441a20e5fe64ee63d85360a3218b42786/55f33f30/hY5JXo5sYZGprmD3gN8caG3ivopSrCuUj84gofTc-xiVvHlXZyhuLpdXlo4rLqAvRjAw0ztAMqBa16fRgfnbYQ%3D%3D?uid=0&filename=stops_train.tsv&disposition=attachment&hash=rENMzse%2BT5qk3lvynT6XqaLs3QSHOJpMVgL2r8GLNPM%3D%3A/stops_train.tsv&limit=0&content_type=text%2Ftab-separated-values&fsize=70869&hid=cf49e6af399fbb111e26dcfc1b4bf80b&media_type=data&tknv=v2\r\n",
      "Resolving downloader.disk.yandex.ru (downloader.disk.yandex.ru)... 77.88.21.127, 2a02:6b8::2:127\r\n",
      "Connecting to downloader.disk.yandex.ru (downloader.disk.yandex.ru)|77.88.21.127|:443... connected.\r\n",
      "HTTP request sent, awaiting response... 200 OK\r\n",
      "Length: 70869 (69K) [text/tab-separated-values]\r\n",
      "Saving to: 'stops_train.tsv'\r\n",
      "\r\n",
      "\r",
      " 0% [                                       ] 0           --.-K/s              \r",
      "100%[======================================>] 70,869      --.-K/s   in 0.003s  \r\n",
      "\r\n",
      "2015-09-11 17:01:51 (25.5 MB/s) - 'stops_train.tsv' saved [70869/70869]\r\n",
      "\r\n"
     ]
    }
   ],
   "source": [
    "!wget -O stops_train.tsv \"https://downloader.disk.yandex.ru/disk/fae2be3033131514271570a9751b77f441a20e5fe64ee63d85360a3218b42786/55f33f30/hY5JXo5sYZGprmD3gN8caG3ivopSrCuUj84gofTc-xiVvHlXZyhuLpdXlo4rLqAvRjAw0ztAMqBa16fRgfnbYQ%3D%3D?uid=0&filename=stops_train.tsv&disposition=attachment&hash=rENMzse%2BT5qk3lvynT6XqaLs3QSHOJpMVgL2r8GLNPM%3D%3A/stops_train.tsv&limit=0&content_type=text%2Ftab-separated-values&fsize=70869&hid=cf49e6af399fbb111e26dcfc1b4bf80b&media_type=data&tknv=v2\""
   ]
  },
  {
   "cell_type": "code",
   "execution_count": 5,
   "metadata": {
    "collapsed": false
   },
   "outputs": [
    {
     "name": "stdout",
     "output_type": "stream",
     "text": [
      "gps_test.tsv  gps_train.tsv  stop_train.tsv  stops_train.tsv\r\n"
     ]
    }
   ],
   "source": [
    "!ls *.tsv"
   ]
  },
  {
   "cell_type": "code",
   "execution_count": null,
   "metadata": {
    "collapsed": true
   },
   "outputs": [],
   "source": []
  }
 ],
 "metadata": {
  "kernelspec": {
   "display_name": "Python 2",
   "language": "python",
   "name": "python2"
  },
  "language_info": {
   "codemirror_mode": {
    "name": "ipython",
    "version": 2
   },
   "file_extension": ".py",
   "mimetype": "text/x-python",
   "name": "python",
   "nbconvert_exporter": "python",
   "pygments_lexer": "ipython2",
   "version": "2.7.6"
  }
 },
 "nbformat": 4,
 "nbformat_minor": 0
}
