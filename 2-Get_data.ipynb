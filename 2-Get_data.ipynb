{
 "cells": [
  {
   "cell_type": "code",
   "execution_count": 1,
   "metadata": {
    "collapsed": false
   },
   "outputs": [
    {
     "name": "stdout",
     "output_type": "stream",
     "text": [
      "1-Get_oauth_token.ipynb  4-Visualize_data2.ipynb  gps_test.tsv\r\n",
      "2-Get_data.ipynb\t 5-Baseline.ipynb\r\n",
      "3-Visualize_data.ipynb\t contest_yandex.py\r\n"
     ]
    }
   ],
   "source": [
    "!ls"
   ]
  },
  {
   "cell_type": "code",
   "execution_count": 2,
   "metadata": {
    "collapsed": false
   },
   "outputs": [
    {
     "name": "stdout",
     "output_type": "stream",
     "text": [
      "--2015-09-12 12:38:19--  https://downloader.disk.yandex.ru/disk/5ac3db8ce5f9b6f719b974cfa5a4383ec3fabf08b1ce63040d12a9ad29461ca0/55f454da/dSuInkoLB2Q6SI_GWgeE7gOC8m6YfP69CeqnTx-vpBgdwTKw-IbkXm36kOcDeu4-2fO__1-nkC5-9ux0u8avXQ%3D%3D?uid=0&filename=gps_test.tsv&disposition=attachment&hash=LRb%2Bqi0VafUc1n%2BBlTv/9Xx3oul5DR4IO5qs/FmZ/d8%3D%3A&limit=0&content_type=text%2Ftab-separated-values&fsize=43557200&hid=50e2c5afe235852553d0643eedd2756e&media_type=data&tknv=v2\n",
      "Resolving downloader.disk.yandex.ru (downloader.disk.yandex.ru)... 77.88.21.127, 2a02:6b8::2:127\n",
      "Connecting to downloader.disk.yandex.ru (downloader.disk.yandex.ru)|77.88.21.127|:443... connected.\n",
      "HTTP request sent, awaiting response... 302 Moved Temporarily\n",
      "Location: https://leto39f.storage.yandex.net/rdisk/5ac3db8ce5f9b6f719b974cfa5a4383ec3fabf08b1ce63040d12a9ad29461ca0/55f454da/dSuInkoLB2Q6SI_GWgeE7gOC8m6YfP69CeqnTx-vpBgdwTKw-IbkXm36kOcDeu4-2fO__1-nkC5-9ux0u8avXQ==?uid=0&filename=gps_test.tsv&disposition=attachment&hash=LRb%2Bqi0VafUc1n%2BBlTv/9Xx3oul5DR4IO5qs/FmZ/d8%3D%3A&limit=0&content_type=text%2Ftab-separated-values&fsize=43557200&hid=50e2c5afe235852553d0643eedd2756e&media_type=data&tknv=v2&rtoken=876553fcd08c3e4d9acc94b407c85688&force_default=no&ycrid=na-253431fd1d5fbc2810aef65a57cf8432-downloader8g [following]\n",
      "--2015-09-12 12:38:19--  https://leto39f.storage.yandex.net/rdisk/5ac3db8ce5f9b6f719b974cfa5a4383ec3fabf08b1ce63040d12a9ad29461ca0/55f454da/dSuInkoLB2Q6SI_GWgeE7gOC8m6YfP69CeqnTx-vpBgdwTKw-IbkXm36kOcDeu4-2fO__1-nkC5-9ux0u8avXQ==?uid=0&filename=gps_test.tsv&disposition=attachment&hash=LRb%2Bqi0VafUc1n%2BBlTv/9Xx3oul5DR4IO5qs/FmZ/d8%3D%3A&limit=0&content_type=text%2Ftab-separated-values&fsize=43557200&hid=50e2c5afe235852553d0643eedd2756e&media_type=data&tknv=v2&rtoken=876553fcd08c3e4d9acc94b407c85688&force_default=no&ycrid=na-253431fd1d5fbc2810aef65a57cf8432-downloader8g\n",
      "Resolving leto39f.storage.yandex.net (leto39f.storage.yandex.net)... 77.88.29.139, 2a02:6b8:0:1472:6:7ed0:39:fff\n",
      "Connecting to leto39f.storage.yandex.net (leto39f.storage.yandex.net)|77.88.29.139|:443... connected.\n",
      "HTTP request sent, awaiting response... 200 OK\n",
      "Length: 43557200 (42M) [text/tab-separated-values]\n",
      "Saving to: 'gps_test.tsv'\n",
      "\n",
      "100%[======================================>] 43,557,200  4.56MB/s   in 8.5s   \n",
      "\n",
      "2015-09-12 12:38:27 (4.87 MB/s) - 'gps_test.tsv' saved [43557200/43557200]\n",
      "\n"
     ]
    }
   ],
   "source": [
    "!wget -O gps_test.tsv \"https://downloader.disk.yandex.ru/disk/5ac3db8ce5f9b6f719b974cfa5a4383ec3fabf08b1ce63040d12a9ad29461ca0/55f454da/dSuInkoLB2Q6SI_GWgeE7gOC8m6YfP69CeqnTx-vpBgdwTKw-IbkXm36kOcDeu4-2fO__1-nkC5-9ux0u8avXQ%3D%3D?uid=0&filename=gps_test.tsv&disposition=attachment&hash=LRb%2Bqi0VafUc1n%2BBlTv/9Xx3oul5DR4IO5qs/FmZ/d8%3D%3A&limit=0&content_type=text%2Ftab-separated-values&fsize=43557200&hid=50e2c5afe235852553d0643eedd2756e&media_type=data&tknv=v2\""
   ]
  },
  {
   "cell_type": "code",
   "execution_count": 3,
   "metadata": {
    "collapsed": false
   },
   "outputs": [
    {
     "name": "stdout",
     "output_type": "stream",
     "text": [
      "--2015-09-12 12:38:46--  https://downloader.disk.yandex.ru/disk/d3ed22eb5213f33bc6aafc474eae9fb259a429d207f28e6c97d532b8c47037a9/55f454db/5fZhMoaba-AFb5SPjFZBBMJNV1z-p6dhX7hEoxosWqL9XeNNtyvSUSWz-57EVmh965Gnm6DE7ocpmaLJ-k3nkw%3D%3D?uid=0&filename=gps_train.tsv&disposition=attachment&hash=wFLr%2B4xxLxXaxf8ZT/lTVBfpUn8hnwp88D1SUBdIlKE%3D%3A&limit=0&content_type=text%2Ftab-separated-values&fsize=39709263&hid=a226274543bec51f4a4f4b55bc271bac&media_type=data&tknv=v2\n",
      "Resolving downloader.disk.yandex.ru (downloader.disk.yandex.ru)... 77.88.21.127, 2a02:6b8::2:127\n",
      "Connecting to downloader.disk.yandex.ru (downloader.disk.yandex.ru)|77.88.21.127|:443... connected.\n",
      "HTTP request sent, awaiting response... 302 Moved Temporarily\n",
      "Location: https://leto19h.storage.yandex.net/rdisk/d3ed22eb5213f33bc6aafc474eae9fb259a429d207f28e6c97d532b8c47037a9/55f454db/5fZhMoaba-AFb5SPjFZBBMJNV1z-p6dhX7hEoxosWqL9XeNNtyvSUSWz-57EVmh965Gnm6DE7ocpmaLJ-k3nkw==?uid=0&filename=gps_train.tsv&disposition=attachment&hash=wFLr%2B4xxLxXaxf8ZT/lTVBfpUn8hnwp88D1SUBdIlKE%3D%3A&limit=0&content_type=text%2Ftab-separated-values&fsize=39709263&hid=a226274543bec51f4a4f4b55bc271bac&media_type=data&tknv=v2&rtoken=876553fcd08c3e4d9acc94b407c85688&force_default=no&ycrid=na-3382a5e338c21e0be3dd23cfcf483989-downloader3g [following]\n",
      "--2015-09-12 12:38:46--  https://leto19h.storage.yandex.net/rdisk/d3ed22eb5213f33bc6aafc474eae9fb259a429d207f28e6c97d532b8c47037a9/55f454db/5fZhMoaba-AFb5SPjFZBBMJNV1z-p6dhX7hEoxosWqL9XeNNtyvSUSWz-57EVmh965Gnm6DE7ocpmaLJ-k3nkw==?uid=0&filename=gps_train.tsv&disposition=attachment&hash=wFLr%2B4xxLxXaxf8ZT/lTVBfpUn8hnwp88D1SUBdIlKE%3D%3A&limit=0&content_type=text%2Ftab-separated-values&fsize=39709263&hid=a226274543bec51f4a4f4b55bc271bac&media_type=data&tknv=v2&rtoken=876553fcd08c3e4d9acc94b407c85688&force_default=no&ycrid=na-3382a5e338c21e0be3dd23cfcf483989-downloader3g\n",
      "Resolving leto19h.storage.yandex.net (leto19h.storage.yandex.net)... 37.140.190.219, 2a02:6b8:0:1a2d:212:7ed0:19:cac\n",
      "Connecting to leto19h.storage.yandex.net (leto19h.storage.yandex.net)|37.140.190.219|:443... connected.\n",
      "HTTP request sent, awaiting response... 200 OK\n",
      "Length: 39709263 (38M) [text/tab-separated-values]\n",
      "Saving to: 'gps_train.tsv'\n",
      "\n",
      "100%[======================================>] 39,709,263  3.40MB/s   in 7.7s   \n",
      "\n",
      "2015-09-12 12:38:54 (4.90 MB/s) - 'gps_train.tsv' saved [39709263/39709263]\n",
      "\n"
     ]
    }
   ],
   "source": [
    "!wget -O gps_train.tsv \"https://downloader.disk.yandex.ru/disk/d3ed22eb5213f33bc6aafc474eae9fb259a429d207f28e6c97d532b8c47037a9/55f454db/5fZhMoaba-AFb5SPjFZBBMJNV1z-p6dhX7hEoxosWqL9XeNNtyvSUSWz-57EVmh965Gnm6DE7ocpmaLJ-k3nkw%3D%3D?uid=0&filename=gps_train.tsv&disposition=attachment&hash=wFLr%2B4xxLxXaxf8ZT/lTVBfpUn8hnwp88D1SUBdIlKE%3D%3A&limit=0&content_type=text%2Ftab-separated-values&fsize=39709263&hid=a226274543bec51f4a4f4b55bc271bac&media_type=data&tknv=v2\""
   ]
  },
  {
   "cell_type": "code",
   "execution_count": 4,
   "metadata": {
    "collapsed": false
   },
   "outputs": [
    {
     "name": "stdout",
     "output_type": "stream",
     "text": [
      "--2015-09-12 12:39:05--  https://downloader.disk.yandex.ru/disk/6247a6f98b50af016b502b8b031e6b896a87097839230a4d02695090bf37aa85/55f454db/hY5JXo5sYZGprmD3gN8caG3ivopSrCuUj84gofTc-xiVvHlXZyhuLpdXlo4rLqAvRjAw0ztAMqBa16fRgfnbYQ%3D%3D?uid=0&filename=stops_train.tsv&disposition=attachment&hash=wuSZkEoA%2BjCeBujSgcyh1EmUAkbRtQvhsmi6ieW9mV8%3D%3A&limit=0&content_type=text%2Ftab-separated-values&fsize=70869&hid=cf49e6af399fbb111e26dcfc1b4bf80b&media_type=data&tknv=v2\n",
      "Resolving downloader.disk.yandex.ru (downloader.disk.yandex.ru)... 77.88.21.127, 2a02:6b8::2:127\n",
      "Connecting to downloader.disk.yandex.ru (downloader.disk.yandex.ru)|77.88.21.127|:443... connected.\n",
      "HTTP request sent, awaiting response... 200 OK\n",
      "Length: 70869 (69K) [text/tab-separated-values]\n",
      "Saving to: 'stops_train.tsv'\n",
      "\n",
      "100%[======================================>] 70,869      --.-K/s   in 0.04s   \n",
      "\n",
      "2015-09-12 12:39:06 (1.67 MB/s) - 'stops_train.tsv' saved [70869/70869]\n",
      "\n"
     ]
    }
   ],
   "source": [
    "!wget -O stops_train.tsv \"https://downloader.disk.yandex.ru/disk/6247a6f98b50af016b502b8b031e6b896a87097839230a4d02695090bf37aa85/55f454db/hY5JXo5sYZGprmD3gN8caG3ivopSrCuUj84gofTc-xiVvHlXZyhuLpdXlo4rLqAvRjAw0ztAMqBa16fRgfnbYQ%3D%3D?uid=0&filename=stops_train.tsv&disposition=attachment&hash=wuSZkEoA%2BjCeBujSgcyh1EmUAkbRtQvhsmi6ieW9mV8%3D%3A&limit=0&content_type=text%2Ftab-separated-values&fsize=70869&hid=cf49e6af399fbb111e26dcfc1b4bf80b&media_type=data&tknv=v2\""
   ]
  },
  {
   "cell_type": "code",
   "execution_count": 5,
   "metadata": {
    "collapsed": false
   },
   "outputs": [
    {
     "name": "stdout",
     "output_type": "stream",
     "text": [
      "gps_test.tsv  gps_train.tsv  stops_train.tsv\r\n"
     ]
    }
   ],
   "source": [
    "!ls *.tsv"
   ]
  },
  {
   "cell_type": "code",
   "execution_count": null,
   "metadata": {
    "collapsed": true
   },
   "outputs": [],
   "source": []
  }
 ],
 "metadata": {
  "kernelspec": {
   "display_name": "Python 2",
   "language": "python",
   "name": "python2"
  },
  "language_info": {
   "codemirror_mode": {
    "name": "ipython",
    "version": 2
   },
   "file_extension": ".py",
   "mimetype": "text/x-python",
   "name": "python",
   "nbconvert_exporter": "python",
   "pygments_lexer": "ipython2",
   "version": "2.7.6"
  }
 },
 "nbformat": 4,
 "nbformat_minor": 0
}
