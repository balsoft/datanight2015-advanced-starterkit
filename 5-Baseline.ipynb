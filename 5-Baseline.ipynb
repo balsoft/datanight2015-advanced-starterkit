{
 "cells": [
  {
   "cell_type": "markdown",
   "metadata": {},
   "source": [
    "#Бенчмарк. Определение остановок автобусов.\n",
    "\n",
    "Ночь Анализа Данных Яндекса, 2015"
   ]
  },
  {
   "cell_type": "markdown",
   "metadata": {},
   "source": [
    "Подключим необходимые библиотеки:"
   ]
  },
  {
   "cell_type": "code",
   "execution_count": 1,
   "metadata": {
    "collapsed": false
   },
   "outputs": [
    {
     "name": "stdout",
     "output_type": "stream",
     "text": [
      "Populating the interactive namespace from numpy and matplotlib\n"
     ]
    }
   ],
   "source": [
    "%pylab inline\n",
    "\n",
    "import numpy as np\n",
    "import pandas as pd\n",
    "\n",
    "from sklearn.neighbors import NearestNeighbors\n",
    "from sklearn.ensemble import RandomForestClassifier"
   ]
  },
  {
   "cell_type": "markdown",
   "metadata": {},
   "source": [
    "Считаем файлы с обучающей и тестовой выборкой, а также файл с остановками."
   ]
  },
  {
   "cell_type": "code",
   "execution_count": 2,
   "metadata": {
    "collapsed": false
   },
   "outputs": [],
   "source": [
    "dtrain = pd.read_csv('gps_train.tsv', sep = '\\t', names = ['datetime', 'id', 'type', 'hash', 'latitude', 'longitude'])\n",
    "dtest = pd.read_csv('gps_test.tsv', sep = '\\t', names = ['datetime', 'id', 'type', 'hash', 'latitude', 'longitude'])\n",
    "\n",
    "dstops = pd.read_csv('stops_train.tsv', sep = '\\t', names = ['latitude', 'longitude'])"
   ]
  },
  {
   "cell_type": "markdown",
   "metadata": {},
   "source": [
    "Создадим массивы с координатами точек."
   ]
  },
  {
   "cell_type": "code",
   "execution_count": 3,
   "metadata": {
    "collapsed": true
   },
   "outputs": [],
   "source": [
    "coordtrain = np.array(dtrain.ix[:, 4:])\n",
    "coordtest = np.array(dtest.ix[:, 4:])\n",
    "\n",
    "coordstops = np.array(dstops.ix[:, :])"
   ]
  },
  {
   "cell_type": "markdown",
   "metadata": {},
   "source": [
    "Создадим обучающую выборку.\n",
    "Для этого пометим как остановкии те точки маршрутов, которые наиболее близки к реальным остановкам."
   ]
  },
  {
   "cell_type": "code",
   "execution_count": 4,
   "metadata": {
    "collapsed": true
   },
   "outputs": [],
   "source": [
    "nbrs = NearestNeighbors(n_neighbors = 1, algorithm = 'ball_tree').fit(coordtrain)\n",
    "selected = nbrs.kneighbors(coordstops)[1][:, 0]\n",
    "\n",
    "ytrain = np.zeros(len(dtrain))\n",
    "ytrain[selected] = 1"
   ]
  },
  {
   "cell_type": "markdown",
   "metadata": {},
   "source": [
    "В качестве признаков возьмем расстояния до 5 ближайших точек из обучающей и тестовой выборки соответственно."
   ]
  },
  {
   "cell_type": "code",
   "execution_count": 5,
   "metadata": {
    "collapsed": true
   },
   "outputs": [],
   "source": [
    "nbrs = NearestNeighbors(n_neighbors = 5, algorithm = 'ball_tree').fit(coordtrain)\n",
    "Xtrain = nbrs.kneighbors(coordtrain)[0]\n",
    "\n",
    "nbrs = NearestNeighbors(n_neighbors = 5, algorithm = 'ball_tree').fit(coordtest)\n",
    "Xtest = nbrs.kneighbors(coordtest)[0]"
   ]
  },
  {
   "cell_type": "markdown",
   "metadata": {},
   "source": [
    "Обучим модель случайного леса на наших данных."
   ]
  },
  {
   "cell_type": "code",
   "execution_count": 6,
   "metadata": {
    "collapsed": false
   },
   "outputs": [],
   "source": [
    "model = RandomForestClassifier(n_estimators = 10, random_state = 0, n_jobs = -1)\n",
    "model.fit(Xtrain, ytrain)\n",
    "\n",
    "result = model.predict_proba(Xtest)[:, 1]"
   ]
  },
  {
   "cell_type": "markdown",
   "metadata": {},
   "source": [
    "В качестве результата возьмем 3000 наиболее вероятных точек.\n",
    "Выведем результат в файл."
   ]
  },
  {
   "cell_type": "code",
   "execution_count": 7,
   "metadata": {
    "collapsed": false
   },
   "outputs": [],
   "source": [
    "np.savetxt('output.txt', coordtest[argsort(result)[-3000:]], header = '3000', comments = '')"
   ]
  }
 ],
 "metadata": {
  "kernelspec": {
   "display_name": "Python 2",
   "language": "python",
   "name": "python2"
  },
  "language_info": {
   "codemirror_mode": {
    "name": "ipython",
    "version": 2
   },
   "file_extension": ".py",
   "mimetype": "text/x-python",
   "name": "python",
   "nbconvert_exporter": "python",
   "pygments_lexer": "ipython2",
   "version": "2.7.6"
  }
 },
 "nbformat": 4,
 "nbformat_minor": 0
}
